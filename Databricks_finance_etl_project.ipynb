{
 "cells": [
  {
   "cell_type": "code",
   "execution_count": 0,
   "metadata": {
    "application/vnd.databricks.v1+cell": {
     "cellMetadata": {
      "byteLimit": 2048000,
      "rowLimit": 10000
     },
     "inputWidgets": {},
     "nuid": "68fa5d1f-ad37-4b7a-a393-146eceafcb2b",
     "showTitle": false,
     "tableResultSettingsMap": {},
     "title": ""
    }
   },
   "outputs": [],
   "source": [
    "\n",
    "from pyspark.sql import SparkSession\n",
    "from pyspark.sql.functions import *\n",
    "from pyspark.sql.types import *\n",
    "import re\n",
    "\n",
    "configs = {\"fs.azure.account.auth.type\": \"OAuth\",\n",
    "\"fs.azure.account.oauth.provider.type\": \"org.apache.hadoop.fs.azurebfs.oauth2.ClientCredsTokenProvider\",\n",
    "\"fs.azure.account.oauth2.client.id\": \"<CLIENT_ID\",\n",
    "\"fs.azure.account.oauth2.client.secret\": \"<SECRET>\",\n",
    "\"fs.azure.account.oauth2.client.endpoint\": \"https://login.microsoftonline.com/<TENANT_ID>/oauth2/token\"}\n"
   ]
  },
  {
   "cell_type": "code",
   "execution_count": 0,
   "metadata": {
    "application/vnd.databricks.v1+cell": {
     "cellMetadata": {
      "byteLimit": 2048000,
      "rowLimit": 10000
     },
     "inputWidgets": {},
     "nuid": "979095f5-0c97-47a8-a53a-e3d23a8e459e",
     "showTitle": false,
     "tableResultSettingsMap": {},
     "title": ""
    }
   },
   "outputs": [],
   "source": [
    "#dbutils.fs.mount(\n",
    "#source = \"abfss://finance-etl@storagezyesnazarov.dfs.core.windows.net\",\n",
    "#mount_point = \"/mnt/finance-etl\",\n",
    "#extra_configs = configs)"
   ]
  },
  {
   "cell_type": "code",
   "execution_count": 0,
   "metadata": {
    "application/vnd.databricks.v1+cell": {
     "cellMetadata": {
      "byteLimit": 2048000,
      "rowLimit": 10000
     },
     "inputWidgets": {},
     "nuid": "fd1251ef-c7d3-46d6-b642-3cc76e42ef47",
     "showTitle": false,
     "tableResultSettingsMap": {},
     "title": ""
    }
   },
   "outputs": [],
   "source": [
    "spark = SparkSession.builder.appName(\"financials-etl-pipeline\").getOrCreate()\n",
    "spark.conf.set(\"spark.databricks.delta.schema.autoMerge.enabled\", \"true\")\n"
   ]
  },
  {
   "cell_type": "code",
   "execution_count": 0,
   "metadata": {
    "application/vnd.databricks.v1+cell": {
     "cellMetadata": {
      "byteLimit": 2048000,
      "rowLimit": 10000
     },
     "inputWidgets": {},
     "nuid": "a0a195cb-6a78-4513-81c0-4245044874d0",
     "showTitle": false,
     "tableResultSettingsMap": {},
     "title": ""
    }
   },
   "outputs": [],
   "source": [
    "bs_csv_data = spark.read.csv(\"/mnt/finance-etl/raw_data/balance_sheet/\", header=True, inferSchema=True)\n",
    "pl_csv_data = spark.read.csv(\"/mnt/finance-etl/raw_data/profit_and_loss/\", header=True, inferSchema=True)\n",
    "cf_csv_data = spark.read.csv(\"/mnt/finance-etl/raw_data/cashflow/\", header=True, inferSchema=True)"
   ]
  },
  {
   "cell_type": "code",
   "execution_count": 0,
   "metadata": {
    "application/vnd.databricks.v1+cell": {
     "cellMetadata": {
      "byteLimit": 2048000,
      "rowLimit": 10000
     },
     "inputWidgets": {},
     "nuid": "38f0da1e-46dd-47e5-b6a3-4943615a3913",
     "showTitle": false,
     "tableResultSettingsMap": {},
     "title": ""
    }
   },
   "outputs": [],
   "source": [
    "## Preparing column names for further UNION function, making sure that all the column names are in lowercase and have no special characters, i.e. standardized\n",
    "\n",
    "def clean_column_names(df):\n",
    "    new_columns = []\n",
    "    for col_name in df.columns:\n",
    "        clean_name = re.sub(r'[^a-zA-Z0-9]', '_', col_name).lower()\n",
    "        clean_name = re.sub(r'(_00_00_00)$', '', clean_name)\n",
    "        clean_name = clean_name.replace('__', '_').strip('_')\n",
    "        new_columns.append(clean_name)\n",
    "\n",
    "    return df.toDF(*new_columns)\n",
    "\n",
    "df_bs_columns_formatted = clean_column_names(bs_csv_data)\n",
    "df_pl_columns_formatted = clean_column_names(pl_csv_data)\n",
    "df_cf_columns_formatted = clean_column_names(cf_csv_data)\n",
    "df_overview_columns_formatted = clean_column_names(overview_csv_data)"
   ]
  },
  {
   "cell_type": "code",
   "execution_count": 0,
   "metadata": {
    "application/vnd.databricks.v1+cell": {
     "cellMetadata": {
      "byteLimit": 2048000,
      "rowLimit": 10000
     },
     "inputWidgets": {},
     "nuid": "e0e044c6-040b-492a-9966-1f6094179208",
     "showTitle": false,
     "tableResultSettingsMap": {},
     "title": ""
    }
   },
   "outputs": [],
   "source": [
    "# Transferring data to delta lake format for further manipulation\n",
    "df_bs_columns_formatted.write.format(\"delta\").mode(\"overwrite\").option(\"overwriteSchema\",\"true\").save(\"/mnt/finance-etl/delta_data/bs_data\")"
   ]
  },
  {
   "cell_type": "code",
   "execution_count": 0,
   "metadata": {
    "application/vnd.databricks.v1+cell": {
     "cellMetadata": {
      "byteLimit": 2048000,
      "rowLimit": 10000
     },
     "inputWidgets": {},
     "nuid": "5e9f60bb-d16a-488a-9d41-9e0d7bd3866d",
     "showTitle": false,
     "tableResultSettingsMap": {},
     "title": ""
    }
   },
   "outputs": [],
   "source": [
    "df_pl_columns_formatted.write.format(\"delta\").mode(\"overwrite\").option(\"overwriteSchema\",\"true\").save(\"/mnt/finance-etl/delta_data/pl_data\")"
   ]
  },
  {
   "cell_type": "code",
   "execution_count": 0,
   "metadata": {
    "application/vnd.databricks.v1+cell": {
     "cellMetadata": {
      "byteLimit": 2048000,
      "rowLimit": 10000
     },
     "inputWidgets": {},
     "nuid": "2e406b48-0393-496d-a43c-326a7824a2a5",
     "showTitle": false,
     "tableResultSettingsMap": {},
     "title": ""
    }
   },
   "outputs": [],
   "source": [
    "df_cf_columns_formatted.write.format(\"delta\").mode(\"overwrite\").option(\"overwriteSchema\",\"true\").save(\"/mnt/finance-etl/delta_data/cf_data\")"
   ]
  },
  {
   "cell_type": "code",
   "execution_count": 0,
   "metadata": {
    "application/vnd.databricks.v1+cell": {
     "cellMetadata": {
      "byteLimit": 2048000,
      "rowLimit": 10000
     },
     "inputWidgets": {},
     "nuid": "7ce3bf2d-7d02-4c34-bec1-4ff43b6364ab",
     "showTitle": false,
     "tableResultSettingsMap": {},
     "title": ""
    }
   },
   "outputs": [],
   "source": [
    "df_bs = df_bs_columns_formatted\n",
    "df_pl = df_pl_columns_formatted\n",
    "df_cf = df_cf_columns_formatted"
   ]
  },
  {
   "cell_type": "code",
   "execution_count": 0,
   "metadata": {
    "application/vnd.databricks.v1+cell": {
     "cellMetadata": {
      "byteLimit": 2048000,
      "rowLimit": 10000
     },
     "inputWidgets": {},
     "nuid": "f9797083-4280-4877-be54-26052dbae4f3",
     "showTitle": false,
     "tableResultSettingsMap": {},
     "title": ""
    }
   },
   "outputs": [],
   "source": [
    "# Merging everything into one big table with all pl, bs, cf lines\n",
    "# Will be done based on type, symbol and columns\n",
    "# choosing date columns based on regular expressions with patterns 4 digits YYYY, 2 digits MM, 2 digits DD\n",
    "# since the financial information is quarterly, the date columns will be the same for bs, pl, cf data\n",
    "# it's indifferent from which source dates will be pulled in, let's choose bs as a source\n",
    "\n",
    "date_columns = [col for col in df_bs.columns if re.match(r\"\\d{4}_\\d{2}_\\d{2}\", col)]\n",
    "common_columns = [\"symbol\",\"description\",\"type\"] + date_columns"
   ]
  },
  {
   "cell_type": "code",
   "execution_count": 0,
   "metadata": {
    "application/vnd.databricks.v1+cell": {
     "cellMetadata": {
      "byteLimit": 2048000,
      "rowLimit": 10000
     },
     "inputWidgets": {},
     "nuid": "6b546e90-f915-408c-a3b6-251cc549ed09",
     "showTitle": false,
     "tableResultSettingsMap": {},
     "title": ""
    }
   },
   "outputs": [],
   "source": [
    "combined_financials = df_bs.select(common_columns).unionByName(df_pl.select(common_columns)).unionByName(df_cf.select(common_columns))"
   ]
  },
  {
   "cell_type": "code",
   "execution_count": 0,
   "metadata": {
    "application/vnd.databricks.v1+cell": {
     "cellMetadata": {
      "byteLimit": 2048000,
      "rowLimit": 10000
     },
     "inputWidgets": {},
     "nuid": "9c334015-fa8f-41b3-a527-b615783f9dd2",
     "showTitle": false,
     "tableResultSettingsMap": {},
     "title": ""
    }
   },
   "outputs": [],
   "source": [
    "#saving as Delta table fur further queriying via SQL, since the column can change, based on the available info, we will need to overwrite schema\n",
    "combined_financials.write.format(\"delta\").option(\"overwriteSchema\",\"true\").mode(\"overwrite\").save(\"/mnt/delta/financials\")"
   ]
  },
  {
   "cell_type": "code",
   "execution_count": 0,
   "metadata": {
    "application/vnd.databricks.v1+cell": {
     "cellMetadata": {
      "byteLimit": 2048000,
      "implicitDf": true,
      "rowLimit": 10000
     },
     "inputWidgets": {},
     "nuid": "57c78029-d57c-4c5c-8dff-908a6db559db",
     "showTitle": false,
     "tableResultSettingsMap": {},
     "title": ""
    }
   },
   "outputs": [
    {
     "data": {
      "text/html": [
       "<style scoped>\n",
       "  .table-result-container {\n",
       "    max-height: 300px;\n",
       "    overflow: auto;\n",
       "  }\n",
       "  table, th, td {\n",
       "    border: 1px solid black;\n",
       "    border-collapse: collapse;\n",
       "  }\n",
       "  th, td {\n",
       "    padding: 5px;\n",
       "  }\n",
       "  th {\n",
       "    text-align: left;\n",
       "  }\n",
       "</style><div class='table-result-container'><table class='table-result'><thead style='background-color: white'><tr><th>num_affected_rows</th><th>num_inserted_rows</th></tr></thead><tbody></tbody></table></div>"
      ]
     },
     "metadata": {
      "application/vnd.databricks.v1+output": {
       "addedWidgets": {},
       "aggData": [],
       "aggError": "",
       "aggOverflow": false,
       "aggSchema": [],
       "aggSeriesLimitReached": false,
       "aggType": "",
       "arguments": {},
       "columnCustomDisplayInfos": {},
       "data": [],
       "datasetInfos": [],
       "dbfsResultPath": null,
       "isJsonSchema": true,
       "metadata": {
        "createTempViewForImplicitDf": true,
        "dataframeName": "_sqldf",
        "executionCount": 119
       },
       "overflow": false,
       "plotOptions": {
        "customPlotOptions": {},
        "displayType": "table",
        "pivotAggregation": null,
        "pivotColumns": null,
        "xColumns": null,
        "yColumns": null
       },
       "removedWidgets": [],
       "schema": [
        {
         "metadata": "{}",
         "name": "num_affected_rows",
         "type": "\"long\""
        },
        {
         "metadata": "{}",
         "name": "num_inserted_rows",
         "type": "\"long\""
        }
       ],
       "type": "table"
      }
     },
     "output_type": "display_data"
    }
   ],
   "source": [
    "%sql \n",
    "CREATE OR REPLACE TABLE financials\n",
    "USING DELTA\n",
    "AS\n",
    "SELECT * FROM delta.`/mnt/delta/financials`"
   ]
  },
  {
   "cell_type": "code",
   "execution_count": 0,
   "metadata": {
    "application/vnd.databricks.v1+cell": {
     "cellMetadata": {
      "byteLimit": 2048000,
      "rowLimit": 10000
     },
     "inputWidgets": {},
     "nuid": "4cbabce3-716f-4f7b-b1dc-deedd53ade18",
     "showTitle": false,
     "tableResultSettingsMap": {},
     "title": ""
    }
   },
   "outputs": [],
   "source": [
    "#Creating a function to move all the raw data to the processed data folder once the data is processed\n",
    "source_root = \"/mnt/finance-etl/raw_data/\"\n",
    "destination_root = \"/mnt/finance-etl/processed_data/\"\n",
    "\n",
    "subfolders = [folder.name for folder in dbutils.fs.ls(source_root) if folder.isDir()]\n",
    "\n",
    "for subfolder in subfolders:\n",
    "    subfolder_path = source_root + subfolder + \"/\"\n",
    "    destination_subfolder_path = destination_root + subfolder + \"/\"\n",
    "\n",
    "    files = dbutils.fs.ls(subfolder_path)\n",
    "    for file in files:\n",
    "        file_name = file.name\n",
    "        source_file_path = file.path\n",
    "        destination_file_path = destination_subfolder_path + file_name\n",
    "\n",
    "        dbutils.fs.mv(source_file_path, destination_file_path)"
   ]
  }
 ],
 "metadata": {
  "application/vnd.databricks.v1+notebook": {
   "computePreferences": null,
   "dashboards": [],
   "environmentMetadata": {
    "base_environment": "",
    "environment_version": "2"
   },
   "language": "python",
   "notebookMetadata": {
    "mostRecentlyExecutedCommandWithImplicitDF": {
     "commandId": 7827893140866044,
     "dataframes": [
      "_sqldf"
     ]
    },
    "pythonIndentUnit": 4
   },
   "notebookName": "finance_etl_project",
   "widgets": {}
  },
  "language_info": {
   "name": "python"
  }
 },
 "nbformat": 4,
 "nbformat_minor": 0
}
